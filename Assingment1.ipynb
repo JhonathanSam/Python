{
  "nbformat": 4,
  "nbformat_minor": 0,
  "metadata": {
    "colab": {
      "provenance": []
    },
    "kernelspec": {
      "name": "python3",
      "display_name": "Python 3"
    },
    "language_info": {
      "name": "python"
    }
  },
  "cells": [
    {
      "cell_type": "code",
      "execution_count": 7,
      "metadata": {
        "colab": {
          "base_uri": "https://localhost:8080/"
        },
        "id": "7rgU5TpLgASL",
        "outputId": "3c473e13-3128-4cf0-d857-8bc8bda1a381"
      },
      "outputs": [
        {
          "output_type": "stream",
          "name": "stdout",
          "text": [
            "Calculator\n",
            "Select operation:\n",
            "Add\n",
            "Sub\n",
            "Mul\n",
            "Div\n",
            "Enter choice Div\n",
            "Enter first number: 50\n",
            "Enter second number: 0\n",
            "Error: Cannot divide by zero.\n"
          ]
        }
      ],
      "source": [
        "def calculator():\n",
        "    print(\"Calculator\")\n",
        "    print(\"Select operation:\")\n",
        "    print(\"Add\")\n",
        "    print(\"Sub\")\n",
        "    print(\"Mul\")\n",
        "    print(\"Div\")\n",
        "\n",
        "    choice = input(\"Enter choice \")\n",
        "\n",
        "    if choice in ('Add', 'Sub', 'Mul', 'Div'):\n",
        "        num1 = float(input(\"Enter first number: \"))\n",
        "        num2 = float(input(\"Enter second number: \"))\n",
        "\n",
        "        if choice == 'Add':\n",
        "            print(f\"The result is: {num1 + num2}\")\n",
        "        elif choice == 'Sub':\n",
        "            print(f\"The result is: {num1 - num2}\")\n",
        "        elif choice == 'Mul':\n",
        "            print(f\"The result is: {num1 * num2}\")\n",
        "        elif choice == 'Div':\n",
        "            if num2 != 0:\n",
        "                print(f\"The result is: {num1 / num2}\")\n",
        "            else:\n",
        "                print(\"Error: Cannot divide by zero.\")\n",
        "    else:\n",
        "        print(\"Invalid input\")\n",
        "\n",
        "calculator()"
      ]
    },
    {
      "cell_type": "code",
      "source": [
        "countries = {\n",
        "    \"India\": {\"population\": 1400000000,\"sqkm\": 3287263, \"capital\": \"New Delhi\" },\n",
        "    \"USA\": {\"population\": 331000000,\"sqkm\": 9833517,\"capital\": \"Washington, D.C.\"},\n",
        "    \"France\": {\"population\": 67000000,\"sqkm\": 643801,\"capital\": \"Paris\" },\n",
        "    \"Japan\": {\"population\": 125800000,\"sqkm\": 377975,\"capital\": \"Tokyo\" }\n",
        "            }\n",
        "\n",
        "abc=input(\"enter your country name\")\n",
        "# Example: Print info about a country\n",
        "print(abc, countries[abc])"
      ],
      "metadata": {
        "colab": {
          "base_uri": "https://localhost:8080/"
        },
        "id": "gtUvqYs1heUe",
        "outputId": "f0f71d9f-85ed-426a-8d17-c2ce87f3f628"
      },
      "execution_count": 11,
      "outputs": [
        {
          "output_type": "stream",
          "name": "stdout",
          "text": [
            "enter your country nameFrance\n",
            "France {'population': 67000000, 'sqkm': 643801, 'capital': 'Paris'}\n"
          ]
        }
      ]
    },
    {
      "cell_type": "code",
      "source": [
        "numbers = input(\"Enter numbers : \")\n",
        "\n",
        "num_list = [int(num) for num in numbers.split()]\n",
        "\n",
        "even_numbers = []\n",
        "odd_numbers = []\n",
        "\n",
        "for num in num_list:\n",
        "    if num % 2 == 0:\n",
        "        even_numbers.append(num)\n",
        "    else:\n",
        "        odd_numbers.append(num)\n",
        "\n",
        "\n",
        "print(\"Even numbers:\", even_numbers)\n",
        "print(\"Odd numbers:\", odd_numbers)"
      ],
      "metadata": {
        "colab": {
          "base_uri": "https://localhost:8080/"
        },
        "id": "fqAycjOxwvOH",
        "outputId": "8f75db9a-0541-4633-b61d-48490a1c82b3"
      },
      "execution_count": 12,
      "outputs": [
        {
          "output_type": "stream",
          "name": "stdout",
          "text": [
            "Enter numbers separated by spaces: 4 5 6 12 34\n",
            "Even numbers: [4, 6, 12, 34]\n",
            "Odd numbers: [5]\n"
          ]
        }
      ]
    },
    {
      "cell_type": "code",
      "source": [
        "num = int(input(\"Enter a number to print its multiplication table: \"))\n",
        "num1 = int(input(\"Enter a number for end point of multiplication table\"))\n",
        "# Print the table\n",
        "print(f\"\\nMultiplication Table for {num}:\\n\")\n",
        "for i in range(1, num1+1):\n",
        "    print(f\"{num} x {i} = {num * i}\")"
      ],
      "metadata": {
        "colab": {
          "base_uri": "https://localhost:8080/"
        },
        "id": "iIH6hTgg8gaW",
        "outputId": "3a57d608-8e9b-4a3d-d6e9-721998d54345"
      },
      "execution_count": 15,
      "outputs": [
        {
          "output_type": "stream",
          "name": "stdout",
          "text": [
            "Enter a number to print its multiplication table: 2\n",
            "Enter a number for end point of multiplication table15\n",
            "\n",
            "Multiplication Table for 2:\n",
            "\n",
            "2 x 1 = 2\n",
            "2 x 2 = 4\n",
            "2 x 3 = 6\n",
            "2 x 4 = 8\n",
            "2 x 5 = 10\n",
            "2 x 6 = 12\n",
            "2 x 7 = 14\n",
            "2 x 8 = 16\n",
            "2 x 9 = 18\n",
            "2 x 10 = 20\n",
            "2 x 11 = 22\n",
            "2 x 12 = 24\n",
            "2 x 13 = 26\n",
            "2 x 14 = 28\n",
            "2 x 15 = 30\n"
          ]
        }
      ]
    },
    {
      "cell_type": "code",
      "source": [
        "software_list = []\n",
        "for i in range(5):\n",
        "    software = input(f\"Enter name of software {i+1}: \")\n",
        "    software_list.append(software)\n",
        "print(\"\\nSoftware List:\")\n",
        "print(software_list)"
      ],
      "metadata": {
        "colab": {
          "base_uri": "https://localhost:8080/"
        },
        "id": "DYN-b_p__Yfk",
        "outputId": "f9099fa9-1ca8-47b9-c25b-a70f6535d7d6"
      },
      "execution_count": 23,
      "outputs": [
        {
          "output_type": "stream",
          "name": "stdout",
          "text": [
            "Enter name of software 1: a\n",
            "Enter name of software 2: b\n",
            "Enter name of software 3: c\n",
            "Enter name of software 4: d\n",
            "Enter name of software 5: e\n",
            "\n",
            "Software List:\n",
            "['a', 'b', 'c', 'd', 'e']\n"
          ]
        }
      ]
    }
  ]
}